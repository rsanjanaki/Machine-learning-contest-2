{
 "cells": [
  {
   "cell_type": "code",
   "execution_count": 2,
   "metadata": {},
   "outputs": [],
   "source": [
    "import pandas as pd\n",
    "from sklearn.model_selection import train_test_split\n",
    "from sklearn.preprocessing import LabelEncoder\n",
    "from sklearn.metrics import accuracy_score\n",
    "\n",
    "\n",
    "train_df = pd.read_csv(\"train.csv\")\n",
    "test_df = pd.read_csv(\"test.csv\")\n",
    "\n",
    "X = train_df.drop(columns=[\"id\", \"y\"])\n",
    "y = train_df[\"y\"]\n",
    "\n",
    "\n",
    "label_encoder = LabelEncoder()\n",
    "y_encoded = label_encoder.fit_transform(y)\n",
    "\n",
    "\n",
    "X_train, X_val, y_train, y_val = train_test_split(X, y_encoded, test_size=0.2, random_state=42)\n",
    "\n",
    "\n"
   ]
  },
  {
   "cell_type": "code",
   "execution_count": null,
   "metadata": {},
   "outputs": [
    {
     "name": "stdout",
     "output_type": "stream",
     "text": [
      "SVM with PCA Validation Accuracy: 0.9333\n"
     ]
    }
   ],
   "source": [
    "from sklearn.decomposition import PCA\n",
    "from sklearn.svm import SVC\n",
    "from sklearn.pipeline import Pipeline\n",
    "from sklearn.model_selection import train_test_split\n",
    "from sklearn.metrics import accuracy_score\n",
    "\n",
    "\n",
    "X_train, X_val, y_train, y_val = train_test_split(X, y_encoded, test_size=0.2, random_state=42)\n",
    "\n",
    "\n",
    "svm_pipeline = Pipeline([\n",
    "    ('pca', PCA(n_components=150, random_state=42)),  \n",
    "    ('svm', SVC(kernel='rbf', C=10, gamma=0.01))      \n",
    "])\n",
    "\n",
    "\n",
    "svm_pipeline.fit(X_train, y_train)\n",
    "\n",
    "\n",
    "y_pred = svm_pipeline.predict(X_val)\n",
    "accuracy = accuracy_score(y_val, y_pred)\n",
    "print(f\"SVM with PCA Validation Accuracy: {accuracy:.4f}\")\n"
   ]
  },
  {
   "cell_type": "code",
   "execution_count": null,
   "metadata": {},
   "outputs": [],
   "source": [
    "# I evaluated five non-neural network models, including:\n",
    "# \n",
    "# 1. **Baseline XGBoost**: Achieved an accuracy of 0.8375.\n",
    "# \n",
    "# 2. **Tuned XGBoost (First Grid)**:\n",
    "# param_grid = {\n",
    "#     'n_estimators': [100, 200, 300],\n",
    "#     'max_depth': [3, 5, 7, 10],\n",
    "#     'learning_rate': [0.01, 0.05, 0.1, 0.2],\n",
    "#     'subsample': [0.6, 0.8, 1.0],\n",
    "#     'colsample_bytree': [0.6, 0.8, 1.0],\n",
    "#     'gamma': [0, 1, 5],\n",
    "#     'reg_lambda': [1, 5, 10],\n",
    "#     'reg_alpha': [0, 1, 5]\n",
    "# }\n",
    "# Achieved an improved accuracy of 0.8458.\n",
    "# \n",
    "# 3. **Tuned XGBoost (Expanded Grid)**:\n",
    "# param_grid = {\n",
    "#     'n_estimators': [100, 200, 300, 400, 500],\n",
    "#     'max_depth': [4, 6, 8, 10, 12],\n",
    "#     'learning_rate': [0.005, 0.01, 0.02, 0.05, 0.1],\n",
    "#     'subsample': [0.5, 0.7, 0.8, 0.9, 1.0],\n",
    "#     'colsample_bytree': [0.5, 0.7, 0.8, 0.9, 1.0],\n",
    "#     'gamma': [0, 0.5, 1, 2, 5],\n",
    "#     'reg_lambda': [0.1, 1, 5, 10, 20],\n",
    "#     'reg_alpha': [0, 0.1, 1, 5, 10],\n",
    "#     'min_child_weight': [1, 3, 5, 7]\n",
    "# }\n",
    "# This model achieved the highest XGBoost accuracy of 0.8750.\n",
    "# \n",
    "# 4. **SVM (with RBF kernel)**: Achieved the best NON-NN performance with an accuracy of 0.9333.\n",
    "# \n",
    "# 5. **Tuned SVM**:\n",
    "# param_grid = {\n",
    "#     'svm__C': [0.1, 1, 10, 50, 100],\n",
    "#     'svm__gamma': [0.001, 0.01, 0.05, 0.1, 1]\n",
    "# }\n",
    "# Grid search setup:\n",
    "# grid_search = GridSearchCV(\n",
    "#     estimator=svm_pipeline,\n",
    "#     param_grid=param_grid,\n",
    "#     scoring='accuracy',\n",
    "#     cv=3,\n",
    "#     verbose=1,\n",
    "#     n_jobs=-1\n",
    "# )\n",
    "# The tuned SVM achieved an accuracy of 0.9250.\n",
    "#\n",
    "# I also tested several other NON-NN models, but their performance was not as competitive and are therefore not included here.\n"
   ]
  }
 ],
 "metadata": {
  "language_info": {
   "name": "python"
  }
 },
 "nbformat": 4,
 "nbformat_minor": 2
}
